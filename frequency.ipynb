{
 "cells": [
  {
   "cell_type": "code",
   "execution_count": 190,
   "metadata": {},
   "outputs": [],
   "source": [
    "import pandas as pd"
   ]
  },
  {
   "cell_type": "code",
   "execution_count": 206,
   "metadata": {},
   "outputs": [
    {
     "name": "stderr",
     "output_type": "stream",
     "text": [
      "c:\\users\\vincent\\appdata\\local\\programs\\python\\python38\\lib\\site-packages\\IPython\\core\\interactiveshell.py:3146: DtypeWarning: Columns (9) have mixed types.Specify dtype option on import or set low_memory=False.\n",
      "  has_raised = await self.run_ast_nodes(code_ast.body, cell_name,\n"
     ]
    },
    {
     "data": {
      "text/plain": [
       "0    WoW, #VRA! What a bounce!  https://t.co/ItnKCe...\n",
       "1                                 @AltcoinDailyio $VRA\n",
       "2    @CryptoDevil9 Well hard to tell, want to buy t...\n",
       "3    @DrVeraSTONE @Aion Polx deve fazer uma corrida...\n",
       "4    🔥 $80 billion were just poured into the market...\n",
       "Name: tweet, dtype: object"
      ]
     },
     "execution_count": 206,
     "metadata": {},
     "output_type": "execute_result"
    }
   ],
   "source": [
    "data = pd.read_csv(\"tweets/tweets.csv\")\n",
    "data[\"tweet\"].head()"
   ]
  },
  {
   "cell_type": "code",
   "execution_count": 207,
   "metadata": {},
   "outputs": [
    {
     "data": {
      "text/html": [
       "<div>\n",
       "<style scoped>\n",
       "    .dataframe tbody tr th:only-of-type {\n",
       "        vertical-align: middle;\n",
       "    }\n",
       "\n",
       "    .dataframe tbody tr th {\n",
       "        vertical-align: top;\n",
       "    }\n",
       "\n",
       "    .dataframe thead th {\n",
       "        text-align: right;\n",
       "    }\n",
       "</style>\n",
       "<table border=\"1\" class=\"dataframe\">\n",
       "  <thead>\n",
       "    <tr style=\"text-align: right;\">\n",
       "      <th></th>\n",
       "      <th>id</th>\n",
       "      <th>date</th>\n",
       "      <th>time</th>\n",
       "      <th>content</th>\n",
       "      <th>replies_count</th>\n",
       "      <th>retweets_count</th>\n",
       "      <th>likes_count</th>\n",
       "      <th>polarity</th>\n",
       "      <th>sentiment</th>\n",
       "    </tr>\n",
       "  </thead>\n",
       "  <tbody>\n",
       "    <tr>\n",
       "      <th>0</th>\n",
       "      <td>1407389240804139018</td>\n",
       "      <td>2021-06-22</td>\n",
       "      <td>19:25:17</td>\n",
       "      <td>WoW, #VRA! What a bounce!  https://t.co/ItnKCe...</td>\n",
       "      <td>0</td>\n",
       "      <td>0</td>\n",
       "      <td>0</td>\n",
       "      <td>NaN</td>\n",
       "      <td>NaN</td>\n",
       "    </tr>\n",
       "    <tr>\n",
       "      <th>1</th>\n",
       "      <td>1407388881557803012</td>\n",
       "      <td>2021-06-22</td>\n",
       "      <td>19:23:52</td>\n",
       "      <td>@AltcoinDailyio $VRA</td>\n",
       "      <td>0</td>\n",
       "      <td>0</td>\n",
       "      <td>0</td>\n",
       "      <td>NaN</td>\n",
       "      <td>NaN</td>\n",
       "    </tr>\n",
       "    <tr>\n",
       "      <th>2</th>\n",
       "      <td>1407388649147310091</td>\n",
       "      <td>2021-06-22</td>\n",
       "      <td>19:22:56</td>\n",
       "      <td>@CryptoDevil9 Well hard to tell, want to buy t...</td>\n",
       "      <td>0</td>\n",
       "      <td>0</td>\n",
       "      <td>0</td>\n",
       "      <td>NaN</td>\n",
       "      <td>NaN</td>\n",
       "    </tr>\n",
       "    <tr>\n",
       "      <th>3</th>\n",
       "      <td>1407388556205727747</td>\n",
       "      <td>2021-06-22</td>\n",
       "      <td>19:22:34</td>\n",
       "      <td>@DrVeraSTONE @Aion Polx deve fazer uma corrida...</td>\n",
       "      <td>0</td>\n",
       "      <td>0</td>\n",
       "      <td>0</td>\n",
       "      <td>NaN</td>\n",
       "      <td>NaN</td>\n",
       "    </tr>\n",
       "    <tr>\n",
       "      <th>4</th>\n",
       "      <td>1407387983624421378</td>\n",
       "      <td>2021-06-22</td>\n",
       "      <td>19:20:17</td>\n",
       "      <td>🔥 $80 billion were just poured into the market...</td>\n",
       "      <td>2</td>\n",
       "      <td>2</td>\n",
       "      <td>10</td>\n",
       "      <td>NaN</td>\n",
       "      <td>NaN</td>\n",
       "    </tr>\n",
       "  </tbody>\n",
       "</table>\n",
       "</div>"
      ],
      "text/plain": [
       "                    id        date      time  \\\n",
       "0  1407389240804139018  2021-06-22  19:25:17   \n",
       "1  1407388881557803012  2021-06-22  19:23:52   \n",
       "2  1407388649147310091  2021-06-22  19:22:56   \n",
       "3  1407388556205727747  2021-06-22  19:22:34   \n",
       "4  1407387983624421378  2021-06-22  19:20:17   \n",
       "\n",
       "                                             content  replies_count  \\\n",
       "0  WoW, #VRA! What a bounce!  https://t.co/ItnKCe...              0   \n",
       "1                               @AltcoinDailyio $VRA              0   \n",
       "2  @CryptoDevil9 Well hard to tell, want to buy t...              0   \n",
       "3  @DrVeraSTONE @Aion Polx deve fazer uma corrida...              0   \n",
       "4  🔥 $80 billion were just poured into the market...              2   \n",
       "\n",
       "   retweets_count  likes_count polarity sentiment  \n",
       "0               0            0      NaN       NaN  \n",
       "1               0            0      NaN       NaN  \n",
       "2               0            0      NaN       NaN  \n",
       "3               0            0      NaN       NaN  \n",
       "4               2           10      NaN       NaN  "
      ]
     },
     "execution_count": 207,
     "metadata": {},
     "output_type": "execute_result"
    }
   ],
   "source": [
    "tweets = pd.DataFrame(columns = ['id', 'date', 'time', 'content', 'replies_count', 'retweets_count', 'likes_count', 'polarity', 'sentiment'])\n",
    "tweets['id'] = data['id']\n",
    "tweets['date'] = data['date']\n",
    "tweets['time'] = data['time']\n",
    "tweets['content'] = data['tweet']\n",
    "tweets['replies_count'] = data['replies_count']\n",
    "tweets['retweets_count'] = data['retweets_count']\n",
    "tweets['likes_count'] = data['likes_count']\n",
    "tweets.head()"
   ]
  },
  {
   "cell_type": "code",
   "execution_count": 208,
   "metadata": {},
   "outputs": [
    {
     "name": "stdout",
     "output_type": "stream",
     "text": [
      "1360\n"
     ]
    }
   ],
   "source": [
    "print(sum(tweets['date'] == '2021-06-16'))\n",
    "# like this we can count number of rows with this condition\n",
    "#list(data.columns)"
   ]
  },
  {
   "cell_type": "code",
   "execution_count": 209,
   "metadata": {},
   "outputs": [
    {
     "name": "stdin",
     "output_type": "stream",
     "text": [
      "Enter date from (yyyy-mm-dd):  2021-01-01\n",
      "Enter date until (yyyy-mm-dd):  2021-06-21\n"
     ]
    },
    {
     "data": {
      "text/html": [
       "<div>\n",
       "<style scoped>\n",
       "    .dataframe tbody tr th:only-of-type {\n",
       "        vertical-align: middle;\n",
       "    }\n",
       "\n",
       "    .dataframe tbody tr th {\n",
       "        vertical-align: top;\n",
       "    }\n",
       "\n",
       "    .dataframe thead th {\n",
       "        text-align: right;\n",
       "    }\n",
       "</style>\n",
       "<table border=\"1\" class=\"dataframe\">\n",
       "  <thead>\n",
       "    <tr style=\"text-align: right;\">\n",
       "      <th></th>\n",
       "      <th>date</th>\n",
       "      <th>term_frequency</th>\n",
       "      <th>sum_sentiment</th>\n",
       "      <th>mean_sentiment</th>\n",
       "      <th>weighted_mean_sentiment</th>\n",
       "    </tr>\n",
       "  </thead>\n",
       "  <tbody>\n",
       "    <tr>\n",
       "      <th>0</th>\n",
       "      <td>2021-01-01</td>\n",
       "      <td>82</td>\n",
       "      <td>NaN</td>\n",
       "      <td>NaN</td>\n",
       "      <td>NaN</td>\n",
       "    </tr>\n",
       "    <tr>\n",
       "      <th>1</th>\n",
       "      <td>2021-01-02</td>\n",
       "      <td>92</td>\n",
       "      <td>NaN</td>\n",
       "      <td>NaN</td>\n",
       "      <td>NaN</td>\n",
       "    </tr>\n",
       "    <tr>\n",
       "      <th>2</th>\n",
       "      <td>2021-01-03</td>\n",
       "      <td>122</td>\n",
       "      <td>NaN</td>\n",
       "      <td>NaN</td>\n",
       "      <td>NaN</td>\n",
       "    </tr>\n",
       "    <tr>\n",
       "      <th>3</th>\n",
       "      <td>2021-01-04</td>\n",
       "      <td>98</td>\n",
       "      <td>NaN</td>\n",
       "      <td>NaN</td>\n",
       "      <td>NaN</td>\n",
       "    </tr>\n",
       "    <tr>\n",
       "      <th>4</th>\n",
       "      <td>2021-01-05</td>\n",
       "      <td>104</td>\n",
       "      <td>NaN</td>\n",
       "      <td>NaN</td>\n",
       "      <td>NaN</td>\n",
       "    </tr>\n",
       "  </tbody>\n",
       "</table>\n",
       "</div>"
      ],
      "text/plain": [
       "        date  term_frequency  sum_sentiment  mean_sentiment  \\\n",
       "0 2021-01-01              82            NaN             NaN   \n",
       "1 2021-01-02              92            NaN             NaN   \n",
       "2 2021-01-03             122            NaN             NaN   \n",
       "3 2021-01-04              98            NaN             NaN   \n",
       "4 2021-01-05             104            NaN             NaN   \n",
       "\n",
       "   weighted_mean_sentiment  \n",
       "0                      NaN  \n",
       "1                      NaN  \n",
       "2                      NaN  \n",
       "3                      NaN  \n",
       "4                      NaN  "
      ]
     },
     "execution_count": 209,
     "metadata": {},
     "output_type": "execute_result"
    }
   ],
   "source": [
    "from datetime import date, timedelta, datetime\n",
    "\n",
    "sent_dict = []\n",
    "\n",
    "# get selected dates\n",
    "sdate = input(\"Enter date from (yyyy-mm-dd): \")   # start date\n",
    "sdate = datetime.strptime(sdate, '%Y-%m-%d')\n",
    "edate = input(\"Enter date until (yyyy-mm-dd): \") # end date\n",
    "edate = datetime.strptime(edate, '%Y-%m-%d')\n",
    "\n",
    "delta = edate - sdate       # as timedelta\n",
    "\n",
    "for i in range(delta.days + 1):\n",
    "    day = sdate + timedelta(days=i)\n",
    "    day = day.strftime('%Y-%m-%d')\n",
    "    sent_dict.append({'date':day, 'term_frequency':sum(tweets['date']==day)})\n",
    "\n",
    "sentiment_data = pd.DataFrame(data=sent_dict, columns = ['date', 'term_frequency', 'sum_sentiment', 'mean_sentiment', 'weighted_mean_sentiment'])\n",
    "sentiment_data['date'] = pd.to_datetime(sentiment_data['date'])  \n",
    "sentiment_data.head()"
   ]
  },
  {
   "cell_type": "code",
   "execution_count": 210,
   "metadata": {
    "tags": []
   },
   "outputs": [
    {
     "data": {
      "text/html": [
       "<div>\n",
       "<style scoped>\n",
       "    .dataframe tbody tr th:only-of-type {\n",
       "        vertical-align: middle;\n",
       "    }\n",
       "\n",
       "    .dataframe tbody tr th {\n",
       "        vertical-align: top;\n",
       "    }\n",
       "\n",
       "    .dataframe thead th {\n",
       "        text-align: right;\n",
       "    }\n",
       "</style>\n",
       "<table border=\"1\" class=\"dataframe\">\n",
       "  <thead>\n",
       "    <tr style=\"text-align: right;\">\n",
       "      <th></th>\n",
       "      <th>date</th>\n",
       "      <th>open</th>\n",
       "      <th>close</th>\n",
       "      <th>market_cap</th>\n",
       "    </tr>\n",
       "  </thead>\n",
       "  <tbody>\n",
       "    <tr>\n",
       "      <th>0</th>\n",
       "      <td>2021-06-21</td>\n",
       "      <td>0.01</td>\n",
       "      <td>0.01</td>\n",
       "      <td>45.579077</td>\n",
       "    </tr>\n",
       "    <tr>\n",
       "      <th>1</th>\n",
       "      <td>2021-06-20</td>\n",
       "      <td>0.01</td>\n",
       "      <td>0.01</td>\n",
       "      <td>55.565523</td>\n",
       "    </tr>\n",
       "    <tr>\n",
       "      <th>2</th>\n",
       "      <td>2021-06-19</td>\n",
       "      <td>0.01</td>\n",
       "      <td>0.01</td>\n",
       "      <td>55.244822</td>\n",
       "    </tr>\n",
       "    <tr>\n",
       "      <th>3</th>\n",
       "      <td>2021-06-18</td>\n",
       "      <td>0.02</td>\n",
       "      <td>0.01</td>\n",
       "      <td>54.775540</td>\n",
       "    </tr>\n",
       "    <tr>\n",
       "      <th>4</th>\n",
       "      <td>2021-06-17</td>\n",
       "      <td>0.02</td>\n",
       "      <td>0.02</td>\n",
       "      <td>58.953596</td>\n",
       "    </tr>\n",
       "  </tbody>\n",
       "</table>\n",
       "</div>"
      ],
      "text/plain": [
       "        date  open  close  market_cap\n",
       "0 2021-06-21  0.01   0.01   45.579077\n",
       "1 2021-06-20  0.01   0.01   55.565523\n",
       "2 2021-06-19  0.01   0.01   55.244822\n",
       "3 2021-06-18  0.02   0.01   54.775540\n",
       "4 2021-06-17  0.02   0.02   58.953596"
      ]
     },
     "execution_count": 210,
     "metadata": {},
     "output_type": "execute_result"
    }
   ],
   "source": [
    "price_data = pd.read_csv(\"price-data/vra-price.csv\")\n",
    "price_data['date'] = pd.to_datetime(price_data['date'])  \n",
    "mask = (price_data['date'] >= sdate) & (price_data['date'] <= edate)\n",
    "#print(price_data.loc[mask])\n",
    "price_data.head()"
   ]
  },
  {
   "cell_type": "code",
   "execution_count": 211,
   "metadata": {},
   "outputs": [
    {
     "data": {
      "image/png": "[encoded data removed]",
      "text/plain": [
       "<Figure size 432x288 with 2 Axes>"
      ]
     },
     "metadata": {},
     "output_type": "display_data"
    }
   ],
   "source": [
    "import seaborn as sns\n",
    "\n",
    "# set the seaborn style\n",
    "sns.set_style(\"whitegrid\")\n",
    " \n",
    "# Color palette\n",
    "blue, = sns.color_palette(\"muted\", 1)\n",
    "\n",
    "# create figure and axis objects with subplots()\n",
    "fig,ax = plt.subplots()\n",
    "# make a plot\n",
    "ax.plot(sentiment_data['date'], sentiment_data['term_frequency'], color=\"red\")\n",
    "# set x-axis label\n",
    "ax.set_xlabel(\"date\",fontsize=14)\n",
    "# set y-axis label\n",
    "ax.set_ylabel(\"frequency\",color=\"red\",fontsize=14)\n",
    "ax.set_xticks(sentiment_data['date'][::7])\n",
    "ax.set_xticklabels(sentiment_data['date'][::7], rotation=45)\n",
    "ax.fill_between(sentiment_data['date'], 0, sentiment_data['term_frequency'], alpha=.1, color=\"red\")\n",
    "\n",
    "# twin object for two different y-axis on the sample plot\n",
    "ax2=ax.twinx()\n",
    "# make a plot with different y-axis using second axis object\n",
    "\n",
    "ax2.plot(price_data.loc[mask, 'date'], price_data.loc[mask, 'market_cap'],color=\"blue\")\n",
    "ax2.set_ylabel(\"market cap (millions)\",color=\"blue\",fontsize=14)\n",
    "ax2.fill_between(price_data.loc[mask, 'date'], 0, price_data.loc[mask, 'market_cap'], alpha=.2, color=blue,)\n",
    "plt.title('VRA Price vs Tweet Frequency')\n",
    "plt.show()"
   ]
  },
  {
   "cell_type": "code",
   "execution_count": null,
   "metadata": {},
   "outputs": [],
   "source": []
  },
  {
   "cell_type": "code",
   "execution_count": null,
   "metadata": {},
   "outputs": [],
   "source": []
  },
  {
   "cell_type": "code",
   "execution_count": null,
   "metadata": {},
   "outputs": [],
   "source": []
  },
  {
   "cell_type": "code",
   "execution_count": null,
   "metadata": {},
   "outputs": [],
   "source": []
  },
  {
   "cell_type": "code",
   "execution_count": null,
   "metadata": {},
   "outputs": [],
   "source": []
  }
 ],
 "metadata": {
  "kernelspec": {
   "display_name": "Python 3",
   "language": "python",
   "name": "python3"
  },
  "language_info": {
   "codemirror_mode": {
    "name": "ipython",
    "version": 3
   },
   "file_extension": ".py",
   "mimetype": "text/x-python",
   "name": "python",
   "nbconvert_exporter": "python",
   "pygments_lexer": "ipython3",
   "version": "3.8.7"
  }
 },
 "nbformat": 4,
 "nbformat_minor": 4
}
