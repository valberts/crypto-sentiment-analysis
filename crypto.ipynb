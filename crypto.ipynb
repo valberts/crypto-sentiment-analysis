{
 "cells": [
  {
   "cell_type": "code",
   "execution_count": 24,
   "metadata": {
    "collapsed": true,
    "jupyter": {
     "outputs_hidden": true
    },
    "tags": []
   },
   "outputs": [
    {
     "name": "stdout",
     "output_type": "stream",
     "text": [
      "Requirement already satisfied: selenium in c:\\users\\vincent\\appdata\\local\\programs\\python\\python38\\lib\\site-packages (3.141.0)\n",
      "Requirement already satisfied: urllib3 in c:\\users\\vincent\\appdata\\local\\programs\\python\\python38\\lib\\site-packages (from selenium) (1.24.3)\n"
     ]
    }
   ],
   "source": [
    "!pip3 install -U selenium"
   ]
  },
  {
   "cell_type": "code",
   "execution_count": 25,
   "metadata": {
    "collapsed": true,
    "jupyter": {
     "outputs_hidden": true
    },
    "tags": []
   },
   "outputs": [
    {
     "name": "stdout",
     "output_type": "stream",
     "text": [
      "Requirement already satisfied: webdriver_manager in c:\\users\\vincent\\appdata\\local\\programs\\python\\python38\\lib\\site-packages (3.4.2)\n",
      "Requirement already satisfied: crayons in c:\\users\\vincent\\appdata\\local\\programs\\python\\python38\\lib\\site-packages (from webdriver_manager) (0.4.0)\n",
      "Requirement already satisfied: configparser in c:\\users\\vincent\\appdata\\local\\programs\\python\\python38\\lib\\site-packages (from webdriver_manager) (5.0.2)\n",
      "Requirement already satisfied: requests in c:\\users\\vincent\\appdata\\local\\programs\\python\\python38\\lib\\site-packages (from webdriver_manager) (2.21.0)\n",
      "Requirement already satisfied: colorama in c:\\users\\vincent\\appdata\\local\\programs\\python\\python38\\lib\\site-packages (from crayons->webdriver_manager) (0.4.4)\n",
      "Requirement already satisfied: urllib3<1.25,>=1.21.1 in c:\\users\\vincent\\appdata\\local\\programs\\python\\python38\\lib\\site-packages (from requests->webdriver_manager) (1.24.3)\n",
      "Requirement already satisfied: idna<2.9,>=2.5 in c:\\users\\vincent\\appdata\\local\\programs\\python\\python38\\lib\\site-packages (from requests->webdriver_manager) (2.8)\n",
      "Requirement already satisfied: chardet<3.1.0,>=3.0.2 in c:\\users\\vincent\\appdata\\local\\programs\\python\\python38\\lib\\site-packages (from requests->webdriver_manager) (3.0.4)\n",
      "Requirement already satisfied: certifi>=2017.4.17 in c:\\users\\vincent\\appdata\\local\\programs\\python\\python38\\lib\\site-packages (from requests->webdriver_manager) (2020.12.5)\n"
     ]
    }
   ],
   "source": [
    "!pip3 install webdriver_manager"
   ]
  },
  {
   "cell_type": "code",
   "execution_count": 1,
   "metadata": {},
   "outputs": [],
   "source": [
    "from selenium import webdriver\n",
    "from webdriver_manager.chrome import ChromeDriverManager\n",
    "import time"
   ]
  },
  {
   "cell_type": "code",
   "execution_count": 2,
   "metadata": {
    "tags": []
   },
   "outputs": [
    {
     "name": "stderr",
     "output_type": "stream",
     "text": [
      "\n",
      "\n",
      "====== WebDriver manager ======\n",
      "Current google-chrome version is 91.0.4472\n",
      "Get LATEST driver version for 91.0.4472\n",
      "Get LATEST driver version for 91.0.4472\n",
      "Trying to download new driver from https://chromedriver.storage.googleapis.com/91.0.4472.101/chromedriver_win32.zip\n",
      "Driver has been saved in cache [C:\\Users\\Vincent\\.wdm\\drivers\\chromedriver\\win32\\91.0.4472.101]\n"
     ]
    }
   ],
   "source": [
    "# initialize the browser\n",
    "browser = webdriver.Chrome(ChromeDriverManager().install())\n",
    "url = \"https://coinmarketcap.com/currencies/verasity/historical-data/\"\n",
    "browser.get(url)\n",
    "time.sleep(1)\n",
    "\n",
    "# make sure the entire page is loaded in\n",
    "browser.execute_script(\"window.scrollTo(0,1000)\")\n",
    "time.sleep(0.1)\n",
    "browser.execute_script(\"window.scrollTo(0,3600)\")\n",
    "time.sleep(0.1)\n",
    "\n",
    "# find a close the cookie notification\n",
    "elem_cookie_close = browser.find_element_by_xpath('/html/body/div/div[1]/div[2]/div[2]/div[2]')\n",
    "elem_cookie_close.click()\n",
    "time.sleep(0.1)\n",
    "\n",
    "# locate the load more button\n",
    "elem_button = browser.find_element_by_xpath('/html/body/div/div[1]/div[1]/div[2]/div/div[3]/div/div/p[1]/button')\n",
    "coordinates = elem_button.location_once_scrolled_into_view\n",
    "browser.execute_script('window.scrollTo({}, {});'.format(coordinates['x'], coordinates['y']))\n",
    "time.sleep(0.1)\n",
    "\n",
    "# click the load more button x amount of times to load more price data\n",
    "for x in range(8):\n",
    "    elem_button.click()\n",
    "    coordinates = elem_button.location_once_scrolled_into_view\n",
    "    browser.execute_script('window.scrollTo({}, {});'.format(coordinates['x'], coordinates['y']))\n",
    "    time.sleep(0.2)"
   ]
  },
  {
   "cell_type": "code",
   "execution_count": 3,
   "metadata": {},
   "outputs": [],
   "source": [
    "# find the body of the price data\n",
    "elem_tbody = browser.find_element_by_tag_name('tbody')"
   ]
  },
  {
   "cell_type": "code",
   "execution_count": 4,
   "metadata": {},
   "outputs": [
    {
     "data": {
      "text/plain": [
       "182"
      ]
     },
     "execution_count": 4,
     "metadata": {},
     "output_type": "execute_result"
    }
   ],
   "source": [
    "# find each row in the table\n",
    "elems_tr = elem_tbody.find_elements_by_tag_name('tr')\n",
    "len(elems_tr)"
   ]
  },
  {
   "cell_type": "code",
   "execution_count": 5,
   "metadata": {
    "collapsed": true,
    "jupyter": {
     "outputs_hidden": true
    },
    "tags": []
   },
   "outputs": [
    {
     "name": "stdout",
     "output_type": "stream",
     "text": [
      "date=Jun 21, 2021 open=$0.01 close=$0.01 market_cap=$45,579,077\n",
      "date=Jun 20, 2021 open=$0.01 close=$0.01 market_cap=$55,565,523\n",
      "date=Jun 19, 2021 open=$0.01 close=$0.01 market_cap=$55,244,822\n",
      "date=Jun 18, 2021 open=$0.02 close=$0.01 market_cap=$54,775,540\n",
      "date=Jun 17, 2021 open=$0.02 close=$0.02 market_cap=$58,953,596\n",
      "date=Jun 16, 2021 open=$0.02 close=$0.02 market_cap=$59,299,637\n",
      "date=Jun 15, 2021 open=$0.02 close=$0.02 market_cap=$62,948,609\n",
      "date=Jun 14, 2021 open=$0.02 close=$0.02 market_cap=$63,904,066\n",
      "date=Jun 13, 2021 open=$0.01 close=$0.02 market_cap=$65,023,247\n",
      "date=Jun 12, 2021 open=$0.02 close=$0.01 market_cap=$55,501,512\n",
      "date=Jun 11, 2021 open=$0.02 close=$0.02 market_cap=$58,772,453\n",
      "date=Jun 10, 2021 open=$0.02 close=$0.02 market_cap=$64,512,933\n",
      "date=Jun 09, 2021 open=$0.01 close=$0.02 market_cap=$64,740,512\n",
      "date=Jun 08, 2021 open=$0.02 close=$0.01 market_cap=$55,909,977\n",
      "date=Jun 07, 2021 open=$0.02 close=$0.02 market_cap=$59,661,987\n",
      "date=Jun 06, 2021 open=$0.02 close=$0.02 market_cap=$74,534,617\n",
      "date=Jun 05, 2021 open=$0.02 close=$0.02 market_cap=$68,148,264\n",
      "date=Jun 04, 2021 open=$0.02 close=$0.02 market_cap=$68,883,908\n",
      "date=Jun 03, 2021 open=$0.02 close=$0.02 market_cap=$82,402,083\n",
      "date=Jun 02, 2021 open=$0.02 close=$0.02 market_cap=$90,623,429\n",
      "date=Jun 01, 2021 open=$0.02 close=$0.02 market_cap=$88,835,974\n",
      "date=May 31, 2021 open=$0.02 close=$0.02 market_cap=$74,031,890\n",
      "date=May 30, 2021 open=$0.02 close=$0.02 market_cap=$55,554,107\n",
      "date=May 29, 2021 open=$0.01 close=$0.02 market_cap=$54,503,270\n",
      "date=May 28, 2021 open=$0.01 close=$0.01 market_cap=$44,682,591\n",
      "date=May 27, 2021 open=$0.02 close=$0.01 market_cap=$52,511,799\n",
      "date=May 26, 2021 open=$0.02 close=$0.02 market_cap=$61,648,933\n",
      "date=May 25, 2021 open=$0.02 close=$0.02 market_cap=$60,376,265\n",
      "date=May 24, 2021 open=$0.01 close=$0.02 market_cap=$62,466,231\n",
      "date=May 23, 2021 open=$0.02 close=$0.01 market_cap=$48,524,892\n",
      "date=May 22, 2021 open=$0.02 close=$0.02 market_cap=$58,289,491\n",
      "date=May 21, 2021 open=$0.02 close=$0.02 market_cap=$66,357,564\n",
      "date=May 20, 2021 open=$0.02 close=$0.02 market_cap=$78,165,979\n",
      "date=May 19, 2021 open=$0.03 close=$0.02 market_cap=$73,169,144\n",
      "date=May 18, 2021 open=$0.03 close=$0.03 market_cap=$105,747,241\n",
      "date=May 17, 2021 open=$0.03 close=$0.03 market_cap=$96,056,988\n",
      "date=May 16, 2021 open=$0.03 close=$0.03 market_cap=$119,095,485\n",
      "date=May 15, 2021 open=$0.03 close=$0.03 market_cap=$120,922,107\n",
      "date=May 14, 2021 open=$0.03 close=$0.03 market_cap=$138,865,762\n",
      "date=May 13, 2021 open=$0.03 close=$0.03 market_cap=$121,075,951\n",
      "date=May 12, 2021 open=$0.04 close=$0.03 market_cap=$119,524,376\n",
      "date=May 11, 2021 open=$0.03 close=$0.04 market_cap=$134,874,034\n",
      "date=May 10, 2021 open=$0.04 close=$0.03 market_cap=$126,473,020\n",
      "date=May 09, 2021 open=$0.03 close=$0.04 market_cap=$138,949,379\n",
      "date=May 08, 2021 open=$0.03 close=$0.03 market_cap=$125,853,381\n",
      "date=May 07, 2021 open=$0.04 close=$0.03 market_cap=$121,297,795\n",
      "date=May 06, 2021 open=$0.04 close=$0.04 market_cap=$131,745,396\n",
      "date=May 05, 2021 open=$0.03 close=$0.04 market_cap=$142,660,122\n",
      "date=May 04, 2021 open=$0.04 close=$0.03 market_cap=$128,570,811\n",
      "date=May 03, 2021 open=$0.04 close=$0.04 market_cap=$145,484,094\n",
      "date=May 02, 2021 open=$0.04 close=$0.04 market_cap=$138,626,048\n",
      "date=May 01, 2021 open=$0.04 close=$0.04 market_cap=$144,095,979\n",
      "date=Apr 30, 2021 open=$0.04 close=$0.04 market_cap=$153,580,452\n",
      "date=Apr 29, 2021 open=$0.04 close=$0.04 market_cap=$144,135,570\n",
      "date=Apr 28, 2021 open=$0.04 close=$0.04 market_cap=$150,048,153\n",
      "date=Apr 27, 2021 open=$0.04 close=$0.04 market_cap=$139,212,230\n",
      "date=Apr 26, 2021 open=$0.03 close=$0.04 market_cap=$137,184,951\n",
      "date=Apr 25, 2021 open=$0.03 close=$0.03 market_cap=$98,144,061\n",
      "date=Apr 24, 2021 open=$0.03 close=$0.03 market_cap=$99,818,279\n",
      "date=Apr 23, 2021 open=$0.03 close=$0.03 market_cap=$113,059,697\n",
      "date=Apr 22, 2021 open=$0.03 close=$0.03 market_cap=$118,728,042\n",
      "date=Apr 21, 2021 open=$0.04 close=$0.04 market_cap=$128,767,257\n",
      "date=Apr 20, 2021 open=$0.04 close=$0.04 market_cap=$144,726,723\n",
      "date=Apr 19, 2021 open=$0.04 close=$0.04 market_cap=$144,163,689\n",
      "date=Apr 18, 2021 open=$0.05 close=$0.04 market_cap=$161,960,994\n",
      "date=Apr 17, 2021 open=$0.05 close=$0.05 market_cap=$175,392,852\n",
      "date=Apr 16, 2021 open=$0.04 close=$0.05 market_cap=$186,357,275\n",
      "date=Apr 15, 2021 open=$0.04 close=$0.04 market_cap=$155,691,363\n",
      "date=Apr 14, 2021 open=$0.04 close=$0.04 market_cap=$146,803,297\n",
      "date=Apr 13, 2021 open=$0.05 close=$0.04 market_cap=$169,527,329\n",
      "date=Apr 12, 2021 open=$0.05 close=$0.05 market_cap=$185,252,623\n",
      "date=Apr 11, 2021 open=$0.05 close=$0.05 market_cap=$197,893,883\n",
      "date=Apr 10, 2021 open=$0.04 close=$0.05 market_cap=$190,498,350\n",
      "date=Apr 09, 2021 open=$0.04 close=$0.04 market_cap=$157,804,861\n",
      "date=Apr 08, 2021 open=$0.04 close=$0.04 market_cap=$147,816,297\n",
      "date=Apr 07, 2021 open=$0.04 close=$0.04 market_cap=$138,439,091\n",
      "date=Apr 06, 2021 open=$0.04 close=$0.04 market_cap=$145,891,885\n",
      "date=Apr 05, 2021 open=$0.04 close=$0.04 market_cap=$145,827,237\n",
      "date=Apr 04, 2021 open=$0.04 close=$0.04 market_cap=$156,284,867\n",
      "date=Apr 03, 2021 open=$0.04 close=$0.04 market_cap=$151,398,077\n",
      "date=Apr 02, 2021 open=$0.04 close=$0.04 market_cap=$142,497,093\n",
      "date=Apr 01, 2021 open=$0.04 close=$0.04 market_cap=$150,440,939\n",
      "date=Mar 31, 2021 open=$0.03 close=$0.04 market_cap=$154,321,226\n",
      "date=Mar 30, 2021 open=$0.03 close=$0.03 market_cap=$116,785,185\n",
      "date=Mar 29, 2021 open=$0.02 close=$0.03 market_cap=$101,506,101\n",
      "date=Mar 28, 2021 open=$0.02 close=$0.02 market_cap=$81,879,221\n",
      "date=Mar 27, 2021 open=$0.02 close=$0.02 market_cap=$70,336,216\n",
      "date=Mar 26, 2021 open=$0.02 close=$0.02 market_cap=$70,833,054\n",
      "date=Mar 25, 2021 open=$0.02 close=$0.02 market_cap=$60,207,333\n",
      "date=Mar 24, 2021 open=$0.02 close=$0.02 market_cap=$64,073,089\n",
      "date=Mar 23, 2021 open=$0.02 close=$0.02 market_cap=$73,438,847\n",
      "date=Mar 22, 2021 open=$0.02 close=$0.02 market_cap=$66,366,911\n",
      "date=Mar 21, 2021 open=$0.02 close=$0.02 market_cap=$60,295,557\n",
      "date=Mar 20, 2021 open=$0.02 close=$0.02 market_cap=$67,098,399\n",
      "date=Mar 19, 2021 open=$0.02 close=$0.02 market_cap=$70,715,564\n",
      "date=Mar 18, 2021 open=$0.02 close=$0.02 market_cap=$67,292,280\n",
      "date=Mar 17, 2021 open=$0.02 close=$0.02 market_cap=$80,750,922\n",
      "date=Mar 16, 2021 open=$0.02 close=$0.02 market_cap=$77,188,464\n",
      "date=Mar 15, 2021 open=$0.01 close=$0.02 market_cap=$68,035,169\n",
      "date=Mar 14, 2021 open=$0.01 close=$0.01 market_cap=$46,790,135\n",
      "date=Mar 13, 2021 open=$0.008047 close=$0.01 market_cap=$42,193,497\n",
      "date=Mar 12, 2021 open=$0.007174 close=$0.008062 market_cap=$31,286,690\n",
      "date=Mar 11, 2021 open=$0.007428 close=$0.007189 market_cap=$27,899,868\n",
      "date=Mar 10, 2021 open=$0.005893 close=$0.007423 market_cap=$28,809,385\n",
      "date=Mar 09, 2021 open=$0.004034 close=$0.005841 market_cap=$22,666,577\n",
      "date=Mar 08, 2021 open=$0.003867 close=$0.004035 market_cap=$15,659,650\n",
      "date=Mar 07, 2021 open=$0.003853 close=$0.003868 market_cap=$15,012,161\n",
      "date=Mar 06, 2021 open=$0.002917 close=$0.003833 market_cap=$14,873,555\n",
      "date=Mar 05, 2021 open=$0.002209 close=$0.002919 market_cap=$11,329,151\n",
      "date=Mar 04, 2021 open=$0.002278 close=$0.002209 market_cap=$8,571,820\n",
      "date=Mar 03, 2021 open=$0.002145 close=$0.002281 market_cap=$8,852,263\n",
      "date=Mar 02, 2021 open=$0.002442 close=$0.002142 market_cap=$8,312,084\n",
      "date=Mar 01, 2021 open=$0.0021 close=$0.002441 market_cap=$9,472,151\n",
      "date=Feb 28, 2021 open=$0.002328 close=$0.002101 market_cap=$8,153,844\n",
      "date=Feb 27, 2021 open=$0.002565 close=$0.002331 market_cap=$9,046,057\n",
      "date=Feb 26, 2021 open=$0.002404 close=$0.002569 market_cap=$9,970,070\n",
      "date=Feb 25, 2021 open=$0.002464 close=$0.002402 market_cap=$9,323,683\n",
      "date=Feb 24, 2021 open=$0.002384 close=$0.002464 market_cap=$9,562,338\n",
      "date=Feb 23, 2021 open=$0.002781 close=$0.002386 market_cap=$9,258,004\n",
      "date=Feb 22, 2021 open=$0.00322 close=$0.002779 market_cap=$10,785,108\n",
      "date=Feb 21, 2021 open=$0.002509 close=$0.00321 market_cap=$12,456,090\n",
      "date=Feb 20, 2021 open=$0.002615 close=$0.002504 market_cap=$9,717,462\n",
      "date=Feb 19, 2021 open=$0.002587 close=$0.002613 market_cap=$10,140,108\n",
      "date=Feb 18, 2021 open=$0.002701 close=$0.00258 market_cap=$10,013,981\n",
      "date=Feb 17, 2021 open=$0.002717 close=$0.002701 market_cap=$10,480,807\n",
      "date=Feb 16, 2021 open=$0.002577 close=$0.002717 market_cap=$10,544,330\n",
      "date=Feb 15, 2021 open=$0.002046 close=$0.002577 market_cap=$10,002,779\n",
      "date=Feb 14, 2021 open=$0.001624 close=$0.002044 market_cap=$7,932,065\n",
      "date=Feb 13, 2021 open=$0.001649 close=$0.001624 market_cap=$6,303,315\n",
      "date=Feb 12, 2021 open=$0.001631 close=$0.001653 market_cap=$6,413,332\n",
      "date=Feb 11, 2021 open=$0.001275 close=$0.001643 market_cap=$6,377,000\n",
      "date=Feb 10, 2021 open=$0.00151 close=$0.001275 market_cap=$4,947,294\n",
      "date=Feb 09, 2021 open=$0.001311 close=$0.00151 market_cap=$5,860,549\n",
      "date=Feb 08, 2021 open=$0.001057 close=$0.001311 market_cap=$5,088,627\n",
      "date=Feb 07, 2021 open=$0.001031 close=$0.001057 market_cap=$4,102,832\n",
      "date=Feb 06, 2021 open=$0.001115 close=$0.001031 market_cap=$4,001,184\n",
      "date=Feb 05, 2021 open=$0.0009879 close=$0.00111 market_cap=$4,307,277\n",
      "date=Feb 04, 2021 open=$0.0009419 close=$0.001 market_cap=$3,882,417\n",
      "date=Feb 03, 2021 open=$0.0008386 close=$0.0009418 market_cap=$3,654,961\n",
      "date=Feb 02, 2021 open=$0.0007477 close=$0.0008387 market_cap=$3,255,099\n",
      "date=Feb 01, 2021 open=$0.000785 close=$0.0007477 market_cap=$2,901,808\n",
      "date=Jan 31, 2021 open=$0.0007523 close=$0.0007852 market_cap=$3,047,425\n",
      "date=Jan 30, 2021 open=$0.0007309 close=$0.0007526 market_cap=$2,920,739\n",
      "date=Jan 29, 2021 open=$0.000681 close=$0.0007303 market_cap=$2,834,285\n",
      "date=Jan 28, 2021 open=$0.0006208 close=$0.0006614 market_cap=$2,566,655\n",
      "date=Jan 27, 2021 open=$0.0006848 close=$0.0006209 market_cap=$2,409,446\n",
      "date=Jan 26, 2021 open=$0.0007004 close=$0.0006849 market_cap=$2,658,143\n",
      "date=Jan 25, 2021 open=$0.0007197 close=$0.0007002 market_cap=$2,717,393\n",
      "date=Jan 24, 2021 open=$0.0007315 close=$0.0007198 market_cap=$2,793,550\n",
      "date=Jan 23, 2021 open=$0.0007572 close=$0.0007314 market_cap=$2,838,559\n",
      "date=Jan 22, 2021 open=$0.0006641 close=$0.0007566 market_cap=$2,936,139\n",
      "date=Jan 21, 2021 open=$0.0007481 close=$0.0006587 market_cap=$2,556,342\n",
      "date=Jan 20, 2021 open=$0.0007723 close=$0.0007475 market_cap=$2,901,085\n",
      "date=Jan 19, 2021 open=$0.0007576 close=$0.0007732 market_cap=$3,000,754\n",
      "date=Jan 18, 2021 open=$0.0008197 close=$0.0007583 market_cap=$2,942,720\n",
      "date=Jan 17, 2021 open=$0.0008297 close=$0.0008202 market_cap=$3,183,048\n",
      "date=Jan 16, 2021 open=$0.000722 close=$0.0008298 market_cap=$3,220,419\n",
      "date=Jan 15, 2021 open=$0.0008235 close=$0.0007212 market_cap=$2,798,976\n",
      "date=Jan 14, 2021 open=$0.0009123 close=$0.0008235 market_cap=$3,195,989\n",
      "date=Jan 13, 2021 open=$0.0009163 close=$0.0009158 market_cap=$3,553,998\n",
      "date=Jan 12, 2021 open=$0.0008787 close=$0.0009166 market_cap=$3,557,011\n",
      "date=Jan 11, 2021 open=$0.0009686 close=$0.0008783 market_cap=$3,408,610\n",
      "date=Jan 10, 2021 open=$0.0008044 close=$0.0009688 market_cap=$3,759,874\n",
      "date=Jan 09, 2021 open=$0.0005826 close=$0.0008042 market_cap=$3,121,171\n",
      "date=Jan 08, 2021 open=$0.0006394 close=$0.0005814 market_cap=$2,256,190\n",
      "date=Jan 07, 2021 open=$0.0005483 close=$0.0006392 market_cap=$2,480,716\n",
      "date=Jan 06, 2021 open=$0.0005278 close=$0.0005487 market_cap=$2,129,281\n",
      "date=Jan 05, 2021 open=$0.0005646 close=$0.0005278 market_cap=$2,048,506\n",
      "date=Jan 04, 2021 open=$0.0005102 close=$0.0005646 market_cap=$2,191,237\n",
      "date=Jan 03, 2021 open=$0.0005118 close=$0.0005101 market_cap=$1,979,683\n",
      "date=Jan 02, 2021 open=$0.0005494 close=$0.0005117 market_cap=$1,985,955\n",
      "date=Jan 01, 2021 open=$0.0004482 close=$0.0005494 market_cap=$2,132,229\n",
      "date=Dec 31, 2020 open=$0.0004567 close=$0.0004482 market_cap=$1,739,470\n",
      "date=Dec 30, 2020 open=$0.0004531 close=$0.0004567 market_cap=$1,772,254\n",
      "date=Dec 29, 2020 open=$0.0004988 close=$0.0004533 market_cap=$1,759,306\n",
      "date=Dec 28, 2020 open=$0.0005275 close=$0.0004988 market_cap=$1,935,742\n",
      "date=Dec 27, 2020 open=$0.0005145 close=$0.0005276 market_cap=$2,047,451\n",
      "date=Dec 26, 2020 open=$0.0005005 close=$0.0005144 market_cap=$1,996,528\n",
      "date=Dec 25, 2020 open=$0.0005058 close=$0.0005005 market_cap=$1,942,566\n",
      "date=Dec 24, 2020 open=$0.0005079 close=$0.0005058 market_cap=$1,962,963\n",
      "date=Dec 23, 2020 open=$0.0005807 close=$0.000508 market_cap=$1,971,415\n",
      "date=Dec 22, 2020 open=$0.0005013 close=$0.0005807 market_cap=$2,253,671\n"
     ]
    }
   ],
   "source": [
    "# loop through each row and print as string\n",
    "for tr in elems_tr:\n",
    "    elems_td = tr.find_elements_by_tag_name('td')\n",
    "    print('date={date} open={open_price} close={close_price} market_cap={market_cap}'.format(\n",
    "        date=elems_td[0].text,\n",
    "        open_price=elems_td[1].text,\n",
    "        close_price=elems_td[4].text,\n",
    "        market_cap=elems_td[6].text))"
   ]
  },
  {
   "cell_type": "code",
   "execution_count": 6,
   "metadata": {},
   "outputs": [
    {
     "name": "stdout",
     "output_type": "stream",
     "text": [
      "Finished scraping price data\n"
     ]
    }
   ],
   "source": [
    "# put the data in a pandas dataframe\n",
    "import pandas as pd\n",
    "from datetime import date, timedelta, datetime\n",
    "\n",
    "dataframe_list = []\n",
    "\n",
    "for tr in elems_tr:\n",
    "    elems_td = tr.find_elements_by_tag_name('td')\n",
    "    \n",
    "    # fix the format of the date\n",
    "    input_date = elems_td[0].text\n",
    "    input_date_object = datetime.strptime(input_date,'%b %d, %Y')\n",
    "    formatted_date = input_date_object.strftime('%Y-%m-%d')\n",
    "    \n",
    "    dataframe_list.append({'date':formatted_date, 'open':elems_td[1].text, 'close':elems_td[4].text, 'market_cap':elems_td[6].text})\n",
    "    \n",
    "price_data = pd.DataFrame(data=dataframe_list)\n",
    "price_data.to_csv('price-data/vra-price.csv', index=False) \n",
    "browser.close()\n",
    "print(\"Finished scraping price data\")"
   ]
  },
  {
   "cell_type": "code",
   "execution_count": 9,
   "metadata": {},
   "outputs": [
    {
     "name": "stdout",
     "output_type": "stream",
     "text": [
      "Finished cleaning data\n"
     ]
    }
   ],
   "source": [
    "df = price_data.copy()\n",
    "df['market_cap'] = df['market_cap'].apply(lambda x: x.replace('$', '').replace(',', '')\n",
    "                                if isinstance(x, str) else x).astype(float)\n",
    "df['market_cap'] = df['market_cap'].apply(lambda x: x / 1000000).astype(float)\n",
    "df['open'] = df['open'].apply(lambda x: x.replace('$', '').replace(',', '')\n",
    "                                if isinstance(x, str) else x).astype(float)\n",
    "df['close'] = df['close'].apply(lambda x: x.replace('$', '').replace(',', '')\n",
    "                                if isinstance(x, str) else x).astype(float)\n",
    "df.to_csv('price-data/vra-price.csv', index=False) \n",
    "print(\"Finished cleaning data\")"
   ]
  },
  {
   "cell_type": "code",
   "execution_count": null,
   "metadata": {},
   "outputs": [],
   "source": []
  }
 ],
 "metadata": {
  "kernelspec": {
   "display_name": "Python 3",
   "language": "python",
   "name": "python3"
  },
  "language_info": {
   "codemirror_mode": {
    "name": "ipython",
    "version": 3
   },
   "file_extension": ".py",
   "mimetype": "text/x-python",
   "name": "python",
   "nbconvert_exporter": "python",
   "pygments_lexer": "ipython3",
   "version": "3.8.7"
  }
 },
 "nbformat": 4,
 "nbformat_minor": 4
}
