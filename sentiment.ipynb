{
 "cells": [
  {
   "cell_type": "code",
   "execution_count": 1,
   "metadata": {},
   "outputs": [],
   "source": [
    "import nltk\n",
    "from nltk import sent_tokenize, word_tokenize\n",
    "from nltk.stem.snowball import SnowballStemmer\n",
    "from nltk.stem.wordnet import WordNetLemmatizer\n",
    "from nltk.corpus import stopwords\n",
    "import pandas as pd\n",
    "import re\n",
    "import string\n",
    "#nltk.download(\"stopwords\")\n",
    "stopwords = stopwords.words('english')\n",
    "ps = nltk.PorterStemmer()"
   ]
  },
  {
   "cell_type": "code",
   "execution_count": 2,
   "metadata": {},
   "outputs": [
    {
     "name": "stderr",
     "output_type": "stream",
     "text": [
      "c:\\users\\vincent\\appdata\\local\\programs\\python\\python38\\lib\\site-packages\\IPython\\core\\interactiveshell.py:3146: DtypeWarning: Columns (9) have mixed types.Specify dtype option on import or set low_memory=False.\n",
      "  has_raised = await self.run_ast_nodes(code_ast.body, cell_name,\n"
     ]
    },
    {
     "data": {
      "text/plain": [
       "0    WoW, #VRA! What a bounce!  https://t.co/ItnKCe...\n",
       "1                                 @AltcoinDailyio $VRA\n",
       "2    @CryptoDevil9 Well hard to tell, want to buy t...\n",
       "3    @DrVeraSTONE @Aion Polx deve fazer uma corrida...\n",
       "4    🔥 $80 billion were just poured into the market...\n",
       "Name: tweet, dtype: object"
      ]
     },
     "execution_count": 2,
     "metadata": {},
     "output_type": "execute_result"
    }
   ],
   "source": [
    "data = pd.read_csv(\"tweets/tweets.csv\")\n",
    "data[\"tweet\"].head()"
   ]
  },
  {
   "cell_type": "code",
   "execution_count": 3,
   "metadata": {},
   "outputs": [
    {
     "data": {
      "text/plain": [
       "0                 WoW VRA What bounce https ItnKCeiHCV\n",
       "1                                   AltcoinDailyio VRA\n",
       "2    CryptoDevil Well hard tell want buy the massiv...\n",
       "3    DrVeraSTONE Aion Polx deve fazer uma corrida c...\n",
       "4    billion were just poured into the markets with...\n",
       "Name: tweet, dtype: object"
      ]
     },
     "execution_count": 3,
     "metadata": {},
     "output_type": "execute_result"
    }
   ],
   "source": [
    "import re\n",
    "# should process numbers, emojis too\n",
    "# remove anything except letters\n",
    "data[\"tweet\"]= data[\"tweet\"].str.replace(\"[^a-zA-Z]\", \" \")\n",
    "# remove words with length 2 or less\n",
    "data[\"tweet\"]= data[\"tweet\"].apply(lambda x: \" \".join ([w for w in x.split() if len (w)>2]))\n",
    "# remove links\n",
    "# data[\"tweet\"]= data[\"tweet\"].str.replace(\"^https?:\\/\\/.*[\\r\\n]*\", \" \")\n",
    "#text = re.sub(r'^https?:\\/\\/.*[\\r\\n]*', '', text, flags=re.MULTILINE)\n",
    "data[\"tweet\"].head()"
   ]
  },
  {
   "cell_type": "code",
   "execution_count": 4,
   "metadata": {},
   "outputs": [
    {
     "data": {
      "text/plain": [
       "0          [wow, vra, what, bounce, https, itnkceihcv]\n",
       "1                                [altcoindailyio, vra]\n",
       "2    [cryptodevil, well, hard, tell, want, buy, the...\n",
       "3    [drverastone, aion, polx, deve, fazer, uma, co...\n",
       "4    [billion, were, just, poured, into, the, marke...\n",
       "Name: tweet, dtype: object"
      ]
     },
     "execution_count": 4,
     "metadata": {},
     "output_type": "execute_result"
    }
   ],
   "source": [
    "# split text up into tokens\n",
    "def tokenize(text):\n",
    "  tokens = re.split(\"\\W+\", text)\n",
    "  return tokens\n",
    "data['tweet']= data['tweet'].apply (lambda x: tokenize(x.lower()))\n",
    "data[\"tweet\"].head()"
   ]
  },
  {
   "cell_type": "code",
   "execution_count": 5,
   "metadata": {},
   "outputs": [
    {
     "data": {
      "text/plain": [
       "0                [wow, vra, bounce, https, itnkceihcv]\n",
       "1                                [altcoindailyio, vra]\n",
       "2    [cryptodevil, well, hard, tell, want, buy, mas...\n",
       "3    [drverastone, aion, polx, deve, fazer, uma, co...\n",
       "4    [billion, poured, markets, within, hour, two, ...\n",
       "Name: tweet, dtype: object"
      ]
     },
     "execution_count": 5,
     "metadata": {},
     "output_type": "execute_result"
    }
   ],
   "source": [
    "# remove stopwords such as a, an, the, etc\n",
    "def remove_stopword(text):\n",
    "  text_nostopword= [char for char in text if char not in stopwords]\n",
    "  return text_nostopword\n",
    "data['tweet']= data['tweet'].apply(lambda x: remove_stopword(x))\n",
    "data[\"tweet\"].head()"
   ]
  },
  {
   "cell_type": "code",
   "execution_count": 6,
   "metadata": {},
   "outputs": [
    {
     "data": {
      "text/plain": [
       "0                  [wow, vra, bounc, http, itnkceihcv]\n",
       "1                                [altcoindailyio, vra]\n",
       "2    [cryptodevil, well, hard, tell, want, buy, mas...\n",
       "3    [drveraston, aion, polx, deve, fazer, uma, cor...\n",
       "4    [billion, pour, market, within, hour, two, bit...\n",
       "Name: tweet, dtype: object"
      ]
     },
     "execution_count": 6,
     "metadata": {},
     "output_type": "execute_result"
    }
   ],
   "source": [
    "# stem the words to finish cleaning the data\n",
    "# Will use Lemmatize\n",
    "def stem(tweet_no_stopword):\n",
    "  text = [ps.stem ( word) for word in tweet_no_stopword]\n",
    "  return text\n",
    "data[\"tweet\"]= data[\"tweet\"].apply(lambda x: stem(x))\n",
    "data[\"tweet\"].head()"
   ]
  },
  {
   "cell_type": "code",
   "execution_count": 7,
   "metadata": {},
   "outputs": [
    {
     "data": {
      "text/html": [
       "<div>\n",
       "<style scoped>\n",
       "    .dataframe tbody tr th:only-of-type {\n",
       "        vertical-align: middle;\n",
       "    }\n",
       "\n",
       "    .dataframe tbody tr th {\n",
       "        vertical-align: top;\n",
       "    }\n",
       "\n",
       "    .dataframe thead th {\n",
       "        text-align: right;\n",
       "    }\n",
       "</style>\n",
       "<table border=\"1\" class=\"dataframe\">\n",
       "  <thead>\n",
       "    <tr style=\"text-align: right;\">\n",
       "      <th></th>\n",
       "      <th>id</th>\n",
       "      <th>date</th>\n",
       "      <th>time</th>\n",
       "      <th>content</th>\n",
       "      <th>replies_count</th>\n",
       "      <th>retweets_count</th>\n",
       "      <th>likes_count</th>\n",
       "      <th>polarity</th>\n",
       "      <th>sentiment</th>\n",
       "    </tr>\n",
       "  </thead>\n",
       "  <tbody>\n",
       "    <tr>\n",
       "      <th>0</th>\n",
       "      <td>1407389240804139018</td>\n",
       "      <td>2021-06-22</td>\n",
       "      <td>19:25:17</td>\n",
       "      <td>[wow, vra, bounc, http, itnkceihcv]</td>\n",
       "      <td>0</td>\n",
       "      <td>0</td>\n",
       "      <td>0</td>\n",
       "      <td>NaN</td>\n",
       "      <td>NaN</td>\n",
       "    </tr>\n",
       "    <tr>\n",
       "      <th>1</th>\n",
       "      <td>1407388881557803012</td>\n",
       "      <td>2021-06-22</td>\n",
       "      <td>19:23:52</td>\n",
       "      <td>[altcoindailyio, vra]</td>\n",
       "      <td>0</td>\n",
       "      <td>0</td>\n",
       "      <td>0</td>\n",
       "      <td>NaN</td>\n",
       "      <td>NaN</td>\n",
       "    </tr>\n",
       "    <tr>\n",
       "      <th>2</th>\n",
       "      <td>1407388649147310091</td>\n",
       "      <td>2021-06-22</td>\n",
       "      <td>19:22:56</td>\n",
       "      <td>[cryptodevil, well, hard, tell, want, buy, mas...</td>\n",
       "      <td>0</td>\n",
       "      <td>0</td>\n",
       "      <td>0</td>\n",
       "      <td>NaN</td>\n",
       "      <td>NaN</td>\n",
       "    </tr>\n",
       "    <tr>\n",
       "      <th>3</th>\n",
       "      <td>1407388556205727747</td>\n",
       "      <td>2021-06-22</td>\n",
       "      <td>19:22:34</td>\n",
       "      <td>[drveraston, aion, polx, deve, fazer, uma, cor...</td>\n",
       "      <td>0</td>\n",
       "      <td>0</td>\n",
       "      <td>0</td>\n",
       "      <td>NaN</td>\n",
       "      <td>NaN</td>\n",
       "    </tr>\n",
       "    <tr>\n",
       "      <th>4</th>\n",
       "      <td>1407387983624421378</td>\n",
       "      <td>2021-06-22</td>\n",
       "      <td>19:20:17</td>\n",
       "      <td>[billion, pour, market, within, hour, two, bit...</td>\n",
       "      <td>2</td>\n",
       "      <td>2</td>\n",
       "      <td>10</td>\n",
       "      <td>NaN</td>\n",
       "      <td>NaN</td>\n",
       "    </tr>\n",
       "  </tbody>\n",
       "</table>\n",
       "</div>"
      ],
      "text/plain": [
       "                    id        date      time  \\\n",
       "0  1407389240804139018  2021-06-22  19:25:17   \n",
       "1  1407388881557803012  2021-06-22  19:23:52   \n",
       "2  1407388649147310091  2021-06-22  19:22:56   \n",
       "3  1407388556205727747  2021-06-22  19:22:34   \n",
       "4  1407387983624421378  2021-06-22  19:20:17   \n",
       "\n",
       "                                             content  replies_count  \\\n",
       "0                [wow, vra, bounc, http, itnkceihcv]              0   \n",
       "1                              [altcoindailyio, vra]              0   \n",
       "2  [cryptodevil, well, hard, tell, want, buy, mas...              0   \n",
       "3  [drveraston, aion, polx, deve, fazer, uma, cor...              0   \n",
       "4  [billion, pour, market, within, hour, two, bit...              2   \n",
       "\n",
       "   retweets_count  likes_count polarity sentiment  \n",
       "0               0            0      NaN       NaN  \n",
       "1               0            0      NaN       NaN  \n",
       "2               0            0      NaN       NaN  \n",
       "3               0            0      NaN       NaN  \n",
       "4               2           10      NaN       NaN  "
      ]
     },
     "execution_count": 7,
     "metadata": {},
     "output_type": "execute_result"
    }
   ],
   "source": [
    "tweets = pd.DataFrame(columns = ['id', 'date', 'time', 'content', 'replies_count', 'retweets_count', 'likes_count', 'polarity', 'sentiment'])\n",
    "tweets['id'] = data['id']\n",
    "tweets['date'] = data['date']\n",
    "tweets['time'] = data['time']\n",
    "tweets['content'] = data['tweet']\n",
    "tweets['replies_count'] = data['replies_count']\n",
    "tweets['retweets_count'] = data['retweets_count']\n",
    "tweets['likes_count'] = data['likes_count']\n",
    "tweets.head()"
   ]
  },
  {
   "cell_type": "code",
   "execution_count": 8,
   "metadata": {},
   "outputs": [
    {
     "name": "stdin",
     "output_type": "stream",
     "text": [
      "Enter date from (yyyy-mm-dd):  2021-01-01\n",
      "Enter date until (yyyy-mm-dd):  2021-06-21\n"
     ]
    },
    {
     "data": {
      "text/html": [
       "<div>\n",
       "<style scoped>\n",
       "    .dataframe tbody tr th:only-of-type {\n",
       "        vertical-align: middle;\n",
       "    }\n",
       "\n",
       "    .dataframe tbody tr th {\n",
       "        vertical-align: top;\n",
       "    }\n",
       "\n",
       "    .dataframe thead th {\n",
       "        text-align: right;\n",
       "    }\n",
       "</style>\n",
       "<table border=\"1\" class=\"dataframe\">\n",
       "  <thead>\n",
       "    <tr style=\"text-align: right;\">\n",
       "      <th></th>\n",
       "      <th>date</th>\n",
       "      <th>term_frequency</th>\n",
       "      <th>sum_sentiment</th>\n",
       "      <th>mean_sentiment</th>\n",
       "      <th>weighted_mean_sentiment</th>\n",
       "    </tr>\n",
       "  </thead>\n",
       "  <tbody>\n",
       "    <tr>\n",
       "      <th>0</th>\n",
       "      <td>2021-01-01</td>\n",
       "      <td>82</td>\n",
       "      <td>NaN</td>\n",
       "      <td>NaN</td>\n",
       "      <td>NaN</td>\n",
       "    </tr>\n",
       "    <tr>\n",
       "      <th>1</th>\n",
       "      <td>2021-01-02</td>\n",
       "      <td>92</td>\n",
       "      <td>NaN</td>\n",
       "      <td>NaN</td>\n",
       "      <td>NaN</td>\n",
       "    </tr>\n",
       "    <tr>\n",
       "      <th>2</th>\n",
       "      <td>2021-01-03</td>\n",
       "      <td>122</td>\n",
       "      <td>NaN</td>\n",
       "      <td>NaN</td>\n",
       "      <td>NaN</td>\n",
       "    </tr>\n",
       "    <tr>\n",
       "      <th>3</th>\n",
       "      <td>2021-01-04</td>\n",
       "      <td>98</td>\n",
       "      <td>NaN</td>\n",
       "      <td>NaN</td>\n",
       "      <td>NaN</td>\n",
       "    </tr>\n",
       "    <tr>\n",
       "      <th>4</th>\n",
       "      <td>2021-01-05</td>\n",
       "      <td>104</td>\n",
       "      <td>NaN</td>\n",
       "      <td>NaN</td>\n",
       "      <td>NaN</td>\n",
       "    </tr>\n",
       "  </tbody>\n",
       "</table>\n",
       "</div>"
      ],
      "text/plain": [
       "        date  term_frequency  sum_sentiment  mean_sentiment  \\\n",
       "0 2021-01-01              82            NaN             NaN   \n",
       "1 2021-01-02              92            NaN             NaN   \n",
       "2 2021-01-03             122            NaN             NaN   \n",
       "3 2021-01-04              98            NaN             NaN   \n",
       "4 2021-01-05             104            NaN             NaN   \n",
       "\n",
       "   weighted_mean_sentiment  \n",
       "0                      NaN  \n",
       "1                      NaN  \n",
       "2                      NaN  \n",
       "3                      NaN  \n",
       "4                      NaN  "
      ]
     },
     "execution_count": 8,
     "metadata": {},
     "output_type": "execute_result"
    }
   ],
   "source": [
    "from datetime import date, timedelta, datetime\n",
    "\n",
    "sent_dict = []\n",
    "\n",
    "# get selected dates\n",
    "sdate = input(\"Enter date from (yyyy-mm-dd): \")   # start date\n",
    "sdate = datetime.strptime(sdate, '%Y-%m-%d')\n",
    "edate = input(\"Enter date until (yyyy-mm-dd): \") # end date\n",
    "edate = datetime.strptime(edate, '%Y-%m-%d')\n",
    "\n",
    "delta = edate - sdate       # as timedelta\n",
    "\n",
    "for i in range(delta.days + 1):\n",
    "    day = sdate + timedelta(days=i)\n",
    "    day = day.strftime('%Y-%m-%d')\n",
    "    sent_dict.append({'date':day, 'term_frequency':sum(tweets['date']==day)})\n",
    "\n",
    "sentiment_data = pd.DataFrame(data=sent_dict, columns = ['date', 'term_frequency', 'sum_sentiment', 'mean_sentiment', 'weighted_mean_sentiment'])\n",
    "sentiment_data['date'] = pd.to_datetime(sentiment_data['date'])  \n",
    "sentiment_data.head()"
   ]
  },
  {
   "cell_type": "code",
   "execution_count": null,
   "metadata": {},
   "outputs": [],
   "source": []
  }
 ],
 "metadata": {
  "kernelspec": {
   "display_name": "Python 3",
   "language": "python",
   "name": "python3"
  },
  "language_info": {
   "codemirror_mode": {
    "name": "ipython",
    "version": 3
   },
   "file_extension": ".py",
   "mimetype": "text/x-python",
   "name": "python",
   "nbconvert_exporter": "python",
   "pygments_lexer": "ipython3",
   "version": "3.8.7"
  }
 },
 "nbformat": 4,
 "nbformat_minor": 4
}
